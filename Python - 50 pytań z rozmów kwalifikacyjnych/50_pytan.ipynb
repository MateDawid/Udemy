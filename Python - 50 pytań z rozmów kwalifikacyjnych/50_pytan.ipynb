{
 "metadata": {
  "language_info": {
   "codemirror_mode": {
    "name": "ipython",
    "version": 3
   },
   "file_extension": ".py",
   "mimetype": "text/x-python",
   "name": "python",
   "nbconvert_exporter": "python",
   "pygments_lexer": "ipython3",
   "version": 3
  },
  "orig_nbformat": 2
 },
 "nbformat": 4,
 "nbformat_minor": 2,
 "cells": [
  {
   "cell_type": "code",
   "execution_count": null,
   "metadata": {},
   "outputs": [],
   "source": [
    "#Pytanie 1 - lista niepowtarzalnych elementów\n",
    "# Korzystając z podanej listy A\n",
    "# stwórz listę B zawierającą tylko unikalne elementy z lista A\n",
    "\n",
    "A = [1,2,3,3,2,1,2,3]\n",
    "\n",
    "# rozwiązanie 1\n",
    "\n",
    "B = []\n",
    "for element in A:\n",
    "  if element not in B:\n",
    "    B.append(element)\n",
    "\n",
    "print(B)\n",
    "\n",
    "# rozwiązanie 2\n",
    "\n",
    "B = list(set(A))\n",
    "print(B)"
   ]
  },
  {
   "cell_type": "code",
   "execution_count": null,
   "metadata": {},
   "outputs": [],
   "source": [
    "# Pytanie 2 - co się stanie po wykonaniu poniższego kodu?\n",
    "\n",
    "a = \"abcdefg\"            # do zmiennej a przypisz zostaje string 'abcdefg'\n",
    "print(a[1])              # wydrukuj element znajdujący się pod indeksem 1 w stringu a\n",
    "# a[1] = 'X'             # próba modyfikacji stringa - operacja zabroniona skutkująca TypeError\n",
    "\n",
    "a_lista = list(a)        # stwórz listę a_lista zawierającą litery ze stringa a\n",
    "a_lista[1] = 'X'         # zmodyfikuj zawartość listy pod indeksem 1 - listy są obiektami, które można modyfikować\n",
    "a = \"\".join(a_lista)     # stwórz stringa a łącząc elementy listy a_lista przy użyciu pustego separatora \"\"\n",
    "print(a)"
   ]
  },
  {
   "cell_type": "code",
   "execution_count": null,
   "metadata": {},
   "outputs": [],
   "source": [
    "  # Pytanie 3 - napisz kod, który zaprezentuje najważniejsze różnice między listą a tuplą\n",
    "\n",
    "L = [1, 2, 3, True, (1, 2)]          # lista zawierająca różne typy danych, w tym tuplę\n",
    "T = (4, 5, 6, False, ['x', 'y'])     # tupla zawierająca różne typy danych, w tym listę\n",
    "# listę zapisujemy w nawiasach kwadratowych [], a tuplę w nawiasach okrągłych ()\n",
    "\n",
    "L[2] = 'trzy'                        # modyfikacja zawartości listy - operacja legalna\n",
    "print(L)\n",
    "\n",
    "T[2] = 'sześć'  # próba modyfikacji zawartości tupli - operacja zabroniona, skutkuje TypeError"
   ]
  },
  {
   "cell_type": "code",
   "execution_count": null,
   "metadata": {},
   "outputs": [],
   "source": [
    "# Pytanie 4 - jakiej struktury danych użyłbyś do zamodelowania\n",
    "# szafki, która ma 3 szuflady, a w każdej z nich 3 przegródki?\n",
    "# Stwórz taki model i umieść stringa \"długopis\"\n",
    "# w środkowej przegródce środkowej szuflady.\n",
    "\n",
    "szafka = [[[],[],[]],[[],[],[]],[[],[],[]]]\n",
    "# lista szafka zawiera trzy zagnieżdżone listy, a każda z nich kolejne trzy zagnieżdżone listy\n",
    "szafka[1][1] = 'długopis'\n",
    "# wpisanie stringa do środkowej listy (reprezentującej skrytkę)\n",
    "# w środkowej liście (reprezentującej szufladę) w liście szafka\n",
    "\n",
    "for a in szafka:       # pętla drukująca po kolei trzy listy będące elementami listy szafka\n",
    "    print(a)"
   ]
  },
  {
   "cell_type": "code",
   "execution_count": null,
   "metadata": {},
   "outputs": [],
   "source": [
    "# Pytanie 5 - z poniższej listy wypisz stringa \"schowany\"\n",
    "\n",
    "L = [[34, False], [0], [('abc', 123), {'a': 1, 'x': (True, 'schowany', 5)}]]\n",
    "\n",
    "print(L[2][1]['x'][1])\n",
    "\n",
    "# odczytywanie po kolei:\n",
    "# L[2] zwraca: [('abc', 123), {'a': 1, 'x': (True, 'schowany', 5)}]\n",
    "# L[2][1] zwraca: {'a': 1, 'x': (True, 'schowany', 5)}\n",
    "# L[2][1]['x'] zwraca: (True, 'schowany', 5)\n",
    "# L[2][1]['x'][1] zwraca: 'schowany'"
   ]
  },
  {
   "cell_type": "code",
   "execution_count": null,
   "metadata": {},
   "outputs": [],
   "source": [
    "# Pytanie 6 - jakiej struktury danych użyłbyś do zapisania numerów telefonów\n",
    "# wszystkich klientów firmy i odpowiadających im nazwisk. Wybierz strukturę tak,\n",
    "# aby sprawdzenie właściciela numeru telefonu nie zajmowało dużo czasu.\n",
    "\n",
    "# Następnie stwórz przykładową strukturę przechowującą poniższe informacje:\n",
    "# 123456789 - Jan Kot\n",
    "# 999888777 - Anna Lis\n",
    "# 111222333 - Jan Kot\n",
    "# Odczytaj nazwisko właściciela numeru 123456789\n",
    "\n",
    "D = {123456789:'Jan Kot', 999888777:'Anna Lis', 111222333:'Jan Kot'}\n",
    "\n",
    "print(D[123456789]) # odczytanie elementu słownika D znajdującego się pod kluczem 123456789\n",
    "\n",
    "# złożoność obliczeniowa wyszukania elementu w liście N-elementowej: O(N)\n",
    "# złożoność obliczeniowa wyszukania elementu w słowniku N-elementowym: O(1) - lepsza!"
   ]
  },
  {
   "cell_type": "code",
   "execution_count": null,
   "metadata": {},
   "outputs": [],
   "source": [
    "# Pytanie 7 - które z poniższych słowników zostały utworzone niepoprawnie?\n",
    "\n",
    "A = {1: 1, 2: 4, 3: 9}\n",
    "B = {'imie': 'Anna', 'nazwisko': 'Kowalska'}\n",
    "# C = {[4, 5]: [16, 25]}    # lista jako element mutowalny nie może byc kluczem słownika!\n",
    "D = {(4, 5): [16, 25]}\n",
    "# E = {{1:2}: 'jeden_dwa'}  # słownik jako element mutowalny równiez nie może być kluczem!"
   ]
  }
 ]
}